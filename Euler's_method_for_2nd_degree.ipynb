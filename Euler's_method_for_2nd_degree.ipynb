{
  "nbformat": 4,
  "nbformat_minor": 0,
  "metadata": {
    "colab": {
      "provenance": [],
      "authorship_tag": "ABX9TyPVtwk0/eswx81E7tlXjekr",
      "include_colab_link": true
    },
    "kernelspec": {
      "name": "python3",
      "display_name": "Python 3"
    },
    "language_info": {
      "name": "python"
    }
  },
  "cells": [
    {
      "cell_type": "markdown",
      "metadata": {
        "id": "view-in-github",
        "colab_type": "text"
      },
      "source": [
        "<a href=\"https://colab.research.google.com/github/Sahilkumar19/calculus-part-2/blob/main/Euler's_method_for_2nd_degree.ipynb\" target=\"_parent\"><img src=\"https://colab.research.google.com/assets/colab-badge.svg\" alt=\"Open In Colab\"/></a>"
      ]
    },
    {
      "cell_type": "code",
      "execution_count": 13,
      "metadata": {
        "id": "kjkU46nEB6kt"
      },
      "outputs": [],
      "source": [
        "import math\n",
        "import matplotlib.pyplot as plt"
      ]
    },
    {
      "cell_type": "code",
      "source": [
        "n = int(input('enter number: '))   # number of observation you want to graph\n",
        "x0 = float(input('enter x at t=0: '))      # enter initial position at t=0\n",
        "v0 = float(input('enetr v at t=0: '))      # enter initial velocity at t=0\n",
        "interval = float(input('enter interval: ')) #enter accurately in order to get a good graph"
      ],
      "metadata": {
        "colab": {
          "base_uri": "https://localhost:8080/"
        },
        "id": "WZTOnG0mEoXl",
        "outputId": "551945f9-03a6-4ca9-889b-4f896aa5b45e"
      },
      "execution_count": 29,
      "outputs": [
        {
          "name": "stdout",
          "output_type": "stream",
          "text": [
            "enter number: 501\n",
            "enter x at t=0: 1\n",
            "enetr v at t=0: 1\n",
            "enter interval: 0.01\n"
          ]
        }
      ]
    },
    {
      "cell_type": "code",
      "source": [
        "def Euler_meth(n, interval, x, v):\n",
        "  x_list_1 = []\n",
        "  for _ in range(n):\n",
        "    x_list_1.append(x)\n",
        "    v = x*interval+v\n",
        "    x = v*interval + x             #finding next term using euler's formula\n",
        "  return x_list_1"
      ],
      "metadata": {
        "id": "ftw8APEvEzIt"
      },
      "execution_count": 30,
      "outputs": []
    },
    {
      "cell_type": "code",
      "source": [
        "def Exponent(n):  #in this cell we are iterating each value of t using for loop and we are passing the value of t to the function and the value which we are getting is appended to the accumulator\n",
        "  x_list_2 = []   #t to the function and the value which we are getting is appended to the accumulator\n",
        "  for t in range(n):\n",
        "    x_list_2.append(math.exp(t*interval))\n",
        "  return x_list_2"
      ],
      "metadata": {
        "id": "nutc5_3WE0hH"
      },
      "execution_count": 41,
      "outputs": []
    },
    {
      "cell_type": "code",
      "source": [
        "t_list = [i*interval for i in range(n)] # we are using list comprehension \n",
        "plt.plot(t_list,Euler_meth(n,interval,x0,v0)) #here we are calling the function and will get the return value of x_list_1 then will ploat\n",
        "plt.plot(t_list,Exponent(n))"
      ],
      "metadata": {
        "colab": {
          "base_uri": "https://localhost:8080/",
          "height": 282
        },
        "id": "c0GFph5JE68s",
        "outputId": "c07b8dae-f1b8-4df1-f569-f5e332de6df4"
      },
      "execution_count": 32,
      "outputs": [
        {
          "output_type": "execute_result",
          "data": {
            "text/plain": [
              "[<matplotlib.lines.Line2D at 0x7f440d242f70>]"
            ]
          },
          "metadata": {},
          "execution_count": 32
        },
        {
          "output_type": "display_data",
          "data": {
            "text/plain": [
              "<Figure size 432x288 with 1 Axes>"
            ],
            "image/png": "[encoded data removed]"
          },
          "metadata": {
            "needs_background": "light"
          }
        }
      ]
    },
    {
      "cell_type": "code",
      "source": [
        "def Euler_err(n,interval,x,v):\n",
        "  del_t = [i*interval for i in range(n)]\n",
        "  x_list_1 = []          #accumulator to collect numerical value\n",
        "  x_list_2 = []          #accumulator to collect analytical value\n",
        "  for t in del_t:\n",
        "    v = x*interval+v\n",
        "    x = v*interval + x\n",
        "    x_list_1.append(x)\n",
        "    x_list_2.append(math.exp(t))\n",
        "  \n",
        "  err_list_1 = []\n",
        "  for i in range(n):\n",
        "    err = (x_list_1[i]-x_list_2[i])/x_list_1[i]\n",
        "    err_list_1.append(err)\n",
        "  return err_list_1"
      ],
      "metadata": {
        "id": "HEYEokvsFANf"
      },
      "execution_count": 33,
      "outputs": []
    },
    {
      "cell_type": "code",
      "source": [
        "del_t = [i*interval for i in range(n)]\n",
        "plt.plot(del_t, Euler_err(n,interval,x0,v0))"
      ],
      "metadata": {
        "colab": {
          "base_uri": "https://localhost:8080/",
          "height": 285
        },
        "id": "svt_kIQgFBy1",
        "outputId": "6e5006d2-9f05-42cf-982c-8feca9f27125"
      },
      "execution_count": 34,
      "outputs": [
        {
          "output_type": "execute_result",
          "data": {
            "text/plain": [
              "[<matplotlib.lines.Line2D at 0x7f440d06b8e0>]"
            ]
          },
          "metadata": {},
          "execution_count": 34
        },
        {
          "output_type": "display_data",
          "data": {
            "text/plain": [
              "<Figure size 432x288 with 1 Axes>"
            ],
            "image/png": "[encoded data removed]"
          },
          "metadata": {
            "needs_background": "light"
          }
        }
      ]
    },
    {
      "cell_type": "code",
      "source": [
        "def Euler_mid(n,interval,x,v):\n",
        "  x_list_1 = []\n",
        "  for i in range(n):\n",
        "    x_list_1.append(x)\n",
        "    v = v + interval*(x+interval*x/2)\n",
        "    x = x + interval*(v+interval*v/2)             # using the formula of Euler's method to find next term\n",
        "  return x_list_1"
      ],
      "metadata": {
        "id": "ynnNsddqFHaa"
      },
      "execution_count": 35,
      "outputs": []
    },
    {
      "cell_type": "code",
      "source": [
        "tlist = [i*interval for i in range(n)]\n",
        "plt.plot(tlist,Euler_mid(n,interval,x0,v0))\n",
        "plt.plot(tlist,Exponent(n))"
      ],
      "metadata": {
        "colab": {
          "base_uri": "https://localhost:8080/",
          "height": 286
        },
        "id": "mRV2m5URFLoS",
        "outputId": "2ce7749b-97b5-4f29-e0ea-e2faf2950deb"
      },
      "execution_count": 36,
      "outputs": [
        {
          "output_type": "execute_result",
          "data": {
            "text/plain": [
              "[<matplotlib.lines.Line2D at 0x7f440cfded90>]"
            ]
          },
          "metadata": {},
          "execution_count": 36
        },
        {
          "output_type": "display_data",
          "data": {
            "text/plain": [
              "<Figure size 432x288 with 1 Axes>"
            ],
            "image/png": "[encoded data removed]"
          },
          "metadata": {
            "needs_background": "light"
          }
        }
      ]
    },
    {
      "cell_type": "code",
      "source": [
        "# this is for error camparison between Euler's mid-point and exponent graph\n",
        "n = 101      # number of observation you want to graph\n",
        "def Euler_mid_err(n,interval,x,v):\n",
        "  del_t = [i*interval for i in range(n)]\n",
        "  x_list_1 = []          # accumulator for numerical value\n",
        "  x_list_2 = []          # accumulator for analytical value\n",
        "  for t in del_t:\n",
        "    x_list_1.append(x)\n",
        "    v = v + t*(x+t*x/2)\n",
        "    x = x + t*(v+t*v/2)\n",
        "    x_list_2.append(math.exp(t))\n",
        "  err_list_2 = []\n",
        "  for i in range(n):\n",
        "    error = (x_list_1[i]-x_list_2[i])/x_list_1[i]\n",
        "    err_list_2.append(error)\n",
        "  return err_list_2"
      ],
      "metadata": {
        "id": "NSBTJ9xZFoqF"
      },
      "execution_count": 37,
      "outputs": []
    },
    {
      "cell_type": "code",
      "source": [
        "tlist = [i*interval for i in range(101)]\n",
        "plt.plot(tlist,Euler_mid_err(101,interval,x0,v0))"
      ],
      "metadata": {
        "colab": {
          "base_uri": "https://localhost:8080/",
          "height": 282
        },
        "id": "0aiiGh9kFr1N",
        "outputId": "6145a97a-b1c1-4919-a243-654f522dc408"
      },
      "execution_count": 38,
      "outputs": [
        {
          "output_type": "execute_result",
          "data": {
            "text/plain": [
              "[<matplotlib.lines.Line2D at 0x7f440cf60d60>]"
            ]
          },
          "metadata": {},
          "execution_count": 38
        },
        {
          "output_type": "display_data",
          "data": {
            "text/plain": [
              "<Figure size 432x288 with 1 Axes>"
            ],
            "image/png": "[encoded data removed]"
          },
          "metadata": {
            "needs_background": "light"
          }
        }
      ]
    },
    {
      "cell_type": "code",
      "source": [
        "tlist = [i*interval for i in range(101)]\n",
        "plt.plot(tlist,Euler_err(101,interval,x0,v0))\n",
        "plt.plot(tlist,Euler_mid_err(101,interval,x0,v0))"
      ],
      "metadata": {
        "colab": {
          "base_uri": "https://localhost:8080/",
          "height": 282
        },
        "id": "VuhwdokAFuoU",
        "outputId": "98e670f5-7017-4f26-f3ff-fdd9b9be6127"
      },
      "execution_count": 40,
      "outputs": [
        {
          "output_type": "execute_result",
          "data": {
            "text/plain": [
              "[<matplotlib.lines.Line2D at 0x7f440ce53910>]"
            ]
          },
          "metadata": {},
          "execution_count": 40
        },
        {
          "output_type": "display_data",
          "data": {
            "text/plain": [
              "<Figure size 432x288 with 1 Axes>"
            ],
            "image/png": "[encoded data removed]"
          },
          "metadata": {
            "needs_background": "light"
          }
        }
      ]
    }
  ]
}