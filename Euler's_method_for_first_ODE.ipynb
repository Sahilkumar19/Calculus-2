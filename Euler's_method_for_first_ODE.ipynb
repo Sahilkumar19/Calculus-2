{
  "nbformat": 4,
  "nbformat_minor": 0,
  "metadata": {
    "colab": {
      "provenance": [],
      "authorship_tag": "ABX9TyOdZ3p4tZzy9+ukzhKzh3Z5",
      "include_colab_link": true
    },
    "kernelspec": {
      "name": "python3",
      "display_name": "Python 3"
    },
    "language_info": {
      "name": "python"
    }
  },
  "cells": [
    {
      "cell_type": "markdown",
      "metadata": {
        "id": "view-in-github",
        "colab_type": "text"
      },
      "source": [
        "<a href=\"https://colab.research.google.com/github/Sahilkumar19/calculus-part-2/blob/main/Euler's_method_for_first_ODE.ipynb\" target=\"_parent\"><img src=\"https://colab.research.google.com/assets/colab-badge.svg\" alt=\"Open In Colab\"/></a>"
      ]
    },
    {
      "cell_type": "markdown",
      "source": [
        "program to solve first order differential equation using MID POINT METHOD."
      ],
      "metadata": {
        "id": "ONHvPc1cbI61"
      }
    },
    {
      "cell_type": "code",
      "source": [
        "import math\n",
        "import matplotlib.pyplot as plt"
      ],
      "metadata": {
        "id": "HOTVX0eyca7A"
      },
      "execution_count": 8,
      "outputs": []
    },
    {
      "cell_type": "code",
      "source": [
        "n = int(input('enter number:'))  \n",
        "x0 = float(input('enter x at t=0: '))      #  x at t=0\n",
        "interval = float(input('enter interval: ')) "
      ],
      "metadata": {
        "colab": {
          "base_uri": "https://localhost:8080/"
        },
        "id": "v3jTNBKgcTpO",
        "outputId": "97e865e5-ab44-4544-a3cd-00960e2626b2"
      },
      "execution_count": 20,
      "outputs": [
        {
          "name": "stdout",
          "output_type": "stream",
          "text": [
            "enter number:401\n",
            "enter x at t=0: 1\n",
            "enter interval: 0.01\n"
          ]
        }
      ]
    },
    {
      "cell_type": "code",
      "execution_count": 21,
      "metadata": {
        "id": "lrmOUQo5X02A"
      },
      "outputs": [],
      "source": [
        "def Euler_meth(n,interval,x):\n",
        "  x_list_1 = [] #accumulator to store the value of x\n",
        "  for i in range(n):\n",
        "    x_list_1.append(x)\n",
        "    x = x*interval+x             # using the formula of Euler's method to find next term\n",
        "  return x_list_1"
      ]
    },
    {
      "cell_type": "code",
      "source": [
        "def Exponent(n):\n",
        "  x_list_2 = [] #accumulator to store the value solution of the exponential function\n",
        "  for t in range(n):\n",
        "    x_list_2.append(math.exp(t*interval))\n",
        "  return x_list_2"
      ],
      "metadata": {
        "id": "lKQGtEQQY_rJ"
      },
      "execution_count": 22,
      "outputs": []
    },
    {
      "cell_type": "code",
      "source": [
        "tlist = [i*interval for i in range(n)]\n",
        "plt.plot(tlist,Euler_meth(n,interval,x0))\n",
        "plt.plot(tlist,Exponent(n))"
      ],
      "metadata": {
        "colab": {
          "base_uri": "https://localhost:8080/",
          "height": 282
        },
        "id": "BUDylXb3ZDNL",
        "outputId": "8679ef8b-2283-4ce8-bf91-fe33af325770"
      },
      "execution_count": 23,
      "outputs": [
        {
          "output_type": "execute_result",
          "data": {
            "text/plain": [
              "[<matplotlib.lines.Line2D at 0x7f84ad4e33d0>]"
            ]
          },
          "metadata": {},
          "execution_count": 23
        },
        {
          "output_type": "display_data",
          "data": {
            "text/plain": [
              "<Figure size 432x288 with 1 Axes>"
            ],
            "image/png": "[encoded data removed]"
          },
          "metadata": {
            "needs_background": "light"
          }
        }
      ]
    },
    {
      "cell_type": "code",
      "source": [
        "# this cell compare the graph between Euler and exponent methods\n",
        "n = 101      # number of deltas what we want to show in the graph \n",
        "x = 1      # x at t=0\n",
        "def Euler_error(n,interval,x):\n",
        "  delta_t = [i*interval for i in range(n)]\n",
        "  xlist1 = []          # accumulator for numerical value\n",
        "  xlist2 = []          # accumulator for analytical value\n",
        "  for t in delta_t:\n",
        "    x = x*t+x\n",
        "    xlist1.append(x)\n",
        "    xlist2.append(math.exp(t))\n",
        "  error_list1 = []\n",
        "  for i in range(n):\n",
        "    error = (xlist1[i]-xlist2[i])/xlist1[i]\n",
        "    error_list1.append(error)\n",
        "  return error_list1"
      ],
      "metadata": {
        "id": "Ot4fAQ6wZJSe"
      },
      "execution_count": 24,
      "outputs": []
    },
    {
      "cell_type": "code",
      "source": [
        "delta_t = [i*interval for i in range(101)]\n",
        "plt.plot(delta_t, Euler_error(101,interval,x0))"
      ],
      "metadata": {
        "colab": {
          "base_uri": "https://localhost:8080/",
          "height": 282
        },
        "id": "3qhpJmibZM5Z",
        "outputId": "d67f0fe2-5997-4b5c-c239-3fca49fa1e75"
      },
      "execution_count": 25,
      "outputs": [
        {
          "output_type": "execute_result",
          "data": {
            "text/plain": [
              "[<matplotlib.lines.Line2D at 0x7f84bd486880>]"
            ]
          },
          "metadata": {},
          "execution_count": 25
        },
        {
          "output_type": "display_data",
          "data": {
            "text/plain": [
              "<Figure size 432x288 with 1 Axes>"
            ],
            "image/png": "[encoded data removed]"
          },
          "metadata": {
            "needs_background": "light"
          }
        }
      ]
    },
    {
      "cell_type": "code",
      "source": [
        "# using euler's midpoint method\n",
        "x = 1\n",
        "def Euler_mid(n,interval,x):\n",
        "  xlist1 = []\n",
        "  for _ in range(n):\n",
        "    xlist1.append(x)\n",
        "    x = x+interval*(x+interval*x/2)             # formula of Euler's method to find next term\n",
        "  return xlist1"
      ],
      "metadata": {
        "id": "OdXVLQc0ZPpe"
      },
      "execution_count": 26,
      "outputs": []
    },
    {
      "cell_type": "code",
      "source": [
        "tlist = [i*interval for i in range(n)]\n",
        "plt.plot(tlist,Euler_mid(n,interval,x0))\n",
        "plt.plot(tlist,Exponent(n))"
      ],
      "metadata": {
        "colab": {
          "base_uri": "https://localhost:8080/",
          "height": 282
        },
        "id": "ID73fG46ZZbv",
        "outputId": "8203f8f6-f6c0-4532-b4ad-ae8d706bf913"
      },
      "execution_count": 27,
      "outputs": [
        {
          "output_type": "execute_result",
          "data": {
            "text/plain": [
              "[<matplotlib.lines.Line2D at 0x7f84bd5ba1c0>]"
            ]
          },
          "metadata": {},
          "execution_count": 27
        },
        {
          "output_type": "display_data",
          "data": {
            "text/plain": [
              "<Figure size 432x288 with 1 Axes>"
            ],
            "image/png": "[encoded data removed]"
          },
          "metadata": {
            "needs_background": "light"
          }
        }
      ]
    },
    {
      "cell_type": "code",
      "source": [
        "# this is for error camparison between Euler's mid-point and exponent graph\n",
        "n = 101      \n",
        "def Euler_mid_error(n,interval,x):\n",
        "  delta_t = [i*interval for i in range(n)]\n",
        "  xlist1 = []          # accumulator for numerical value\n",
        "  xlist2 = []          # accumulator for analytical value\n",
        "  for t in delta_t:\n",
        "    x = x+t*(x+t*x/2)\n",
        "    xlist1.append(x)\n",
        "    xlist2.append(math.exp(t))\n",
        "  error_list1 = []\n",
        "  for i in range(n):\n",
        "    error = (xlist1[i]-xlist2[i])/xlist1[i]\n",
        "    error_list1.append(error)\n",
        "  return error_list1"
      ],
      "metadata": {
        "id": "wZrHpRnJdRwr"
      },
      "execution_count": 28,
      "outputs": []
    },
    {
      "cell_type": "code",
      "source": [
        "tlist = [i*interval for i in range(101)]\n",
        "plt.plot(tlist,Euler_mid_error(101,interval,x0))"
      ],
      "metadata": {
        "colab": {
          "base_uri": "https://localhost:8080/",
          "height": 282
        },
        "id": "32FNouvZdWND",
        "outputId": "2440e49b-8581-4952-a46d-23da98899646"
      },
      "execution_count": 29,
      "outputs": [
        {
          "output_type": "execute_result",
          "data": {
            "text/plain": [
              "[<matplotlib.lines.Line2D at 0x7f84ac6d06d0>]"
            ]
          },
          "metadata": {},
          "execution_count": 29
        },
        {
          "output_type": "display_data",
          "data": {
            "text/plain": [
              "<Figure size 432x288 with 1 Axes>"
            ],
            "image/png": "[encoded data removed]"
          },
          "metadata": {
            "needs_background": "light"
          }
        }
      ]
    },
    {
      "cell_type": "code",
      "source": [
        "tlist = [i*interval for i in range(101)]\n",
        "plt.plot(tlist,Euler_error(101,interval,x0))\n",
        "plt.plot(tlist,Euler_mid_error(101,interval,x0))"
      ],
      "metadata": {
        "colab": {
          "base_uri": "https://localhost:8080/",
          "height": 282
        },
        "id": "9erRXzG7e3ur",
        "outputId": "f379a89b-b18b-4cc5-c2e9-1a1d313621cc"
      },
      "execution_count": 30,
      "outputs": [
        {
          "output_type": "execute_result",
          "data": {
            "text/plain": [
              "[<matplotlib.lines.Line2D at 0x7f84ac6531f0>]"
            ]
          },
          "metadata": {},
          "execution_count": 30
        },
        {
          "output_type": "display_data",
          "data": {
            "text/plain": [
              "<Figure size 432x288 with 1 Axes>"
            ],
            "image/png": "[encoded data removed]"
          },
          "metadata": {
            "needs_background": "light"
          }
        }
      ]
    }
  ]
}