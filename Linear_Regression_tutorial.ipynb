{
  "nbformat": 4,
  "nbformat_minor": 0,
  "metadata": {
    "colab": {
      "provenance": [],
      "authorship_tag": "ABX9TyNW+74LdvpWG1SmBCOSi5UP",
      "include_colab_link": true
    },
    "kernelspec": {
      "name": "python3",
      "display_name": "Python 3"
    },
    "language_info": {
      "name": "python"
    }
  },
  "cells": [
    {
      "cell_type": "markdown",
      "metadata": {
        "id": "view-in-github",
        "colab_type": "text"
      },
      "source": [
        "<a href=\"https://colab.research.google.com/github/Sahilkumar19/calculus-part-2/blob/main/Linear_Regression_tutorial.ipynb\" target=\"_parent\"><img src=\"https://colab.research.google.com/assets/colab-badge.svg\" alt=\"Open In Colab\"/></a>"
      ]
    },
    {
      "cell_type": "code",
      "source": [
        "import math\n",
        "import random\n",
        "import matplotlib.pyplot as plt\n",
        "import numpy as np"
      ],
      "metadata": {
        "id": "jwr14MBpfvpk"
      },
      "execution_count": 20,
      "outputs": []
    },
    {
      "cell_type": "markdown",
      "source": [
        "Here we are graphing Linear regression graph for Linear equation,\n",
        "$$ y_i = mx_i + c + ϵ_i $$\n",
        "To estimate the value of slope and intercept we will find value of $m$ and $c$ so that the following sum of error(SE) is minimized. Expression for SE is as follows:$$SE = \\sum_{i=1}^{n}(y_{i} - m \\cdot x_{i} - c)^2$$ where $m$ is slope and $c$ is intercept.To estimate values of $m$ and $c$ use following equations:\n",
        "$$\\frac{∂SE}{∂m} = 0  \\quad  and \\quad \\frac{∂SE}{∂c} = 0$$\n",
        "Hence calculated values of $m$ and $c$ are:\n",
        "$$m =\\frac{\\overline{xy} - \\overline{x}⋅\\overline{y}}{\\overline{x^2} - (\\overline{x})^2} \\quad \\quad and \\quad \\quad c = \\overline{y} - m \\cdot \\overline{x}$$ Where  $$\\overline{x} = \\frac{1}{n}\\sum_{i=1}^{n}x_{i}  \\quad \\quad and \\quad \\quad \\overline{y} = \\frac{1}{n}\\sum_{i=1}^{n}y_{i} $$"
      ],
      "metadata": {
        "id": "9Mn6IZ9C8o1b"
      }
    },
    {
      "cell_type": "code",
      "source": [
        "\n",
        "x = [i for i in range(1,101)] #values of each xi"
      ],
      "metadata": {
        "id": "EOI73T1LnWpZ"
      },
      "execution_count": 21,
      "outputs": []
    },
    {
      "cell_type": "code",
      "source": [
        "a = 40\n",
        "m = 3\n",
        "c = 5\n",
        "y_error = [] # accumulator to store each value of yi\n",
        "for i in x: # iterating each value of x\n",
        "  yi = m*i  +  c + random.random()*0.5*a # finding yi for each xi random.random() generating a random number for the error\n",
        "  y_error.append(yi) # using append method of list adding each value of yi to accumulator "
      ],
      "metadata": {
        "id": "1vF4CCVcfqMX"
      },
      "execution_count": 22,
      "outputs": []
    },
    {
      "cell_type": "code",
      "source": [
        "y = [] # accumulator to store each value of yi\n",
        "for i in x: # iterating each value of x\n",
        "  yi = m*i  +  c + random.random()*0.5*a # finding yi for each xi random.random() generating a random number for the error\n",
        "  y.append(yi)\n",
        "acc = 0 # accumulator\n",
        "for i in range(100): # iterating each value of x or here we have given the range upto the length of x\n",
        "  acc = acc + x[i]*y[i] \n",
        "\n",
        "xy_bar = acc/100 # calculating xy bar"
      ],
      "metadata": {
        "id": "9Vjqcw0koesu"
      },
      "execution_count": 23,
      "outputs": []
    },
    {
      "cell_type": "code",
      "source": [
        "# calculating x bar\n",
        "acc = 0\n",
        "for i in x:\n",
        "  acc+=i\n",
        "x_bar=acc/100"
      ],
      "metadata": {
        "id": "R4wfc8m_qSjI"
      },
      "execution_count": 24,
      "outputs": []
    },
    {
      "cell_type": "code",
      "source": [
        "# calculating y bar\n",
        "acc=0\n",
        "for i in y:\n",
        "  acc+=i\n",
        "y_bar=acc/100"
      ],
      "metadata": {
        "id": "vkuwaQvmqv1y"
      },
      "execution_count": 25,
      "outputs": []
    },
    {
      "cell_type": "code",
      "source": [
        "# calculating square of x bar\n",
        "x_bar_sq=0\n",
        "for i in x:\n",
        "  x_bar_sq+=i**2\n",
        "x_bar_sq=x_bar_sq/len(x)"
      ],
      "metadata": {
        "id": "Pg9RM8x-UI7S"
      },
      "execution_count": 26,
      "outputs": []
    },
    {
      "cell_type": "code",
      "source": [
        "m1=(xy_bar - x_bar*y_bar)/(x_bar_sq-x_bar**2) # formula to calculate m\n",
        "# print(m1)\n",
        "c1=y_bar-m1*x_bar # formula to calculate c\n",
        "# print(c1)"
      ],
      "metadata": {
        "id": "vxbgZ_6rrDil"
      },
      "execution_count": 27,
      "outputs": []
    },
    {
      "cell_type": "code",
      "source": [
        "y_new = [] #accumulator \n",
        "for i in x:\n",
        "  a=m1*i+c1 \n",
        "  y_new.append(a)"
      ],
      "metadata": {
        "id": "CXZHl3AIsBho"
      },
      "execution_count": 28,
      "outputs": []
    },
    {
      "cell_type": "code",
      "source": [
        "plt.plot(x,y_error,color='red')\n",
        "plt.plot(x,y_new,color='blue')"
      ],
      "metadata": {
        "colab": {
          "base_uri": "https://localhost:8080/",
          "height": 447
        },
        "id": "whMmktHxuh3r",
        "outputId": "fdf12b59-743e-4c57-ea24-d3ec5f9db0d0"
      },
      "execution_count": 30,
      "outputs": [
        {
          "output_type": "execute_result",
          "data": {
            "text/plain": [
              "[<matplotlib.lines.Line2D at 0x7f1918f46340>]"
            ]
          },
          "metadata": {},
          "execution_count": 30
        },
        {
          "output_type": "display_data",
          "data": {
            "text/plain": [
              "<Figure size 640x480 with 1 Axes>"
            ],
            "image/png": "[encoded data removed]"
          },
          "metadata": {}
        }
      ]
    },
    {
      "cell_type": "markdown",
      "source": [
        "# Linear regression for Exponential Function\n",
        "$$ y_i = β e^{mx_i +ϵ_i}$$\n",
        "now take log on both side such that it will become linear equation and then we can do it using previous one\n",
        "$$ log(y_i) = log(β) + mx_i +ϵ_i $$\n",
        "consider  $$ y_i^{new}= log(y_i), c = log(β) m = γ$$\n",
        "\n",
        "now apply linear regression method to find $β$ and $γ$."
      ],
      "metadata": {
        "id": "R-mTOHrX9Jz6"
      }
    },
    {
      "cell_type": "code",
      "source": [
        "# initial values of beta and m\n",
        "Beta=3\n",
        "m=0.05"
      ],
      "metadata": {
        "id": "P1czRjY81WPo"
      },
      "execution_count": 11,
      "outputs": []
    },
    {
      "cell_type": "code",
      "source": [
        "val_of_above_eq=[]#accumulator to store each solution of above exponential equation\n",
        "new_val_after_log=[] #accumulator for new values of solutions after taking log which will be used to calculate new_m and new_c\n",
        "for i in x:\n",
        "  sol=Beta*math.exp(m*i+random.random()-0.5)  #here sol is the value of each yi for the above exponential equation\n",
        "  val_of_above_eq.append(sol) #using append function adding each sol(solutions) to the accumulator 1\n",
        "  new_val_after_log.append(math.log(sol))#using append function adding each sol(after taking log of each solution) to the accumulator 2\n",
        "\n",
        "# in the below snippet of code I am just finding the values of the some variables\n",
        "acc=0 # accumulator \n",
        "for i in new_val_after_log: #iterating each value of the list\n",
        "  acc += i # adding each value to the acc\n",
        "z_bar = acc / len(new_val_after_log) # finding z_bar(just like average of numbers which sum of all the numbers divided by total numbers)\n",
        "\n",
        "# calculating xz_bar\n",
        "acc=0 #accumulator\n",
        "for i in range(100):\n",
        "  acc = acc + x[i]*new_val_after_log[i]\n",
        "xz_bar=acc/100\n",
        "\n",
        "#calculating new value of m using the formula of m replacing xy_bar by xz_bar\n",
        "new_m=((xz_bar-x_bar*z_bar)/(x_bar_sq-x_bar**2))\n",
        "# finding new value of c\n",
        "c_new=z_bar-new_m*x_bar\n",
        "# finding new value of beta \n",
        "beta_new=math.exp(c_new)\n",
        "\n",
        "\n",
        "correct_val_of_above_eq=[] # accumulator for storing correct value of each solution of exponential equation\n",
        "for i in x:\n",
        "  y_new=beta_new*math.exp(new_m*i) # after putting the value of new_m and new_c in the above equation we are finding the correct solution\n",
        "  correct_val_of_above_eq.append(y_new) # appending each new solution to the accumulator"
      ],
      "metadata": {
        "id": "gsRuRPIs0lkk"
      },
      "execution_count": 12,
      "outputs": []
    },
    {
      "cell_type": "code",
      "source": [
        "plt.scatter(x,val_of_above_eq,color='red') # for incoorect values we are ploting as point by scattering\n",
        "plt.plot(x,correct_val_of_above_eq,color='green') #for correct values "
      ],
      "metadata": {
        "colab": {
          "base_uri": "https://localhost:8080/",
          "height": 447
        },
        "id": "8STv0SrO3EZv",
        "outputId": "188d4360-d212-405d-8f05-84a0380ac411"
      },
      "execution_count": 13,
      "outputs": [
        {
          "output_type": "execute_result",
          "data": {
            "text/plain": [
              "[<matplotlib.lines.Line2D at 0x7f19385e5fa0>]"
            ]
          },
          "metadata": {},
          "execution_count": 13
        },
        {
          "output_type": "display_data",
          "data": {
            "text/plain": [
              "<Figure size 640x480 with 1 Axes>"
            ],
            "image/png": "[encoded data removed]"
          },
          "metadata": {}
        }
      ]
    },
    {
      "cell_type": "markdown",
      "source": [
        "# Here we are graphing linear regression for nth degree polynomial\n",
        "$$ y_i = m_nx^n + m_{n-1}x^{n-1} + ... + m_1x^1 + m_0x^0 $$\n",
        "now we will change this polynomial to multidimensional linear equation\n",
        "\n",
        "\n",
        "treat $x^n$ as nth axis and replace it with $x_n$  as $$ x^n = x_n$$\n",
        "\n",
        "similrly, treat $x^{n-1}$ as (n-1)th axis and replace it with $x_{n-1}$  as \n",
        "$$ x^{n-1} = x_{n-1} $$\n",
        "\n",
        "and so on ...\n",
        "then replace $ m_nx_n + m_{n-1}x_{n-1} + ... + m_1x_1 + m_0x_0 $ with MX\n",
        "so our equation will be $ Y = MX $\n",
        "\n",
        "then we need to solve it using matrix "
      ],
      "metadata": {
        "id": "LhvINK1RB_Dh"
      }
    },
    {
      "cell_type": "code",
      "source": [
        "degree = int(input('degree of polynomial: '))\n",
        "total_variable = degree\n",
        "mlist = []        # this is list for coefficint\n",
        "Xlist = []\n",
        "power = 0         # starting power with 0\n",
        "while degree >= 0:\n",
        "  m = float(input('enter coefficient: '))\n",
        "  xlist = [i**power for i in range(total_variable+1)]\n",
        "  Xlist.append(xlist)\n",
        "  mlist.append(m)\n",
        "  power += 1\n",
        "  degree = degree - 1"
      ],
      "metadata": {
        "colab": {
          "base_uri": "https://localhost:8080/"
        },
        "id": "ukxcjH8NCEzY",
        "outputId": "81196906-a1f7-465a-a249-0bff5b7b381c"
      },
      "execution_count": 14,
      "outputs": [
        {
          "name": "stdout",
          "output_type": "stream",
          "text": [
            "degree of polynomial: 1\n",
            "enter coefficient: 1\n",
            "enter coefficient: 1\n"
          ]
        }
      ]
    },
    {
      "cell_type": "code",
      "source": [
        "\n",
        "def Error_ylist(list_2d, list_1d):\n",
        "  array_2d = np.array(list_2d)\n",
        "  array_1d = np.array(list_1d)\n",
        "  mul_array = (array_2d @ array_1d)\n",
        "  result = [i + (random.random() - 0.5) for i in mul_array]\n",
        "  return result\n",
        "print(Error_ylist(Xlist, mlist))"
      ],
      "metadata": {
        "colab": {
          "base_uri": "https://localhost:8080/"
        },
        "id": "drZAiQNQCdsv",
        "outputId": "df78382d-570f-489f-b50a-1454d16e29ac"
      },
      "execution_count": 15,
      "outputs": [
        {
          "output_type": "stream",
          "name": "stdout",
          "text": [
            "[1.5796703916681376, 1.1545953347539637]\n"
          ]
        }
      ]
    },
    {
      "cell_type": "code",
      "source": [
        "matrix = np.array(Xlist)\n",
        "matrix_inv = np.linalg.inv(matrix)\n",
        "lst = Error_ylist(Xlist, mlist)\n",
        "correct_mlist =  matrix_inv @ np.array(lst).reshape(-1, 1)\n",
        "print(mlist)"
      ],
      "metadata": {
        "colab": {
          "base_uri": "https://localhost:8080/"
        },
        "id": "ly2jQCayCiXu",
        "outputId": "29b92837-bb5d-4093-eed1-5713ac9da97d"
      },
      "execution_count": 16,
      "outputs": [
        {
          "output_type": "stream",
          "name": "stdout",
          "text": [
            "[1.0, 1.0]\n"
          ]
        }
      ]
    },
    {
      "cell_type": "code",
      "source": [
        "def Correct_ylist(list_2d, list_1d):\n",
        "  array_2d = np.array(list_2d)\n",
        "  array_1d = np.array(list_1d)\n",
        "  return array_2d @ array_1d\n",
        "print(Correct_ylist(Xlist, correct_mlist))"
      ],
      "metadata": {
        "colab": {
          "base_uri": "https://localhost:8080/"
        },
        "id": "eysAo5R_CmyF",
        "outputId": "cd1be486-6135-42df-9604-78b117f7996c"
      },
      "execution_count": 17,
      "outputs": [
        {
          "output_type": "stream",
          "name": "stdout",
          "text": [
            "[[1.92175429]\n",
            " [1.09223998]]\n"
          ]
        }
      ]
    }
  ]
}